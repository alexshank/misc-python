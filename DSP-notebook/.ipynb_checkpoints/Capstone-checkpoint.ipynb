{
 "cells": [
  {
   "cell_type": "code",
   "execution_count": 323,
   "metadata": {
    "tags": []
   },
   "outputs": [
    {
     "name": "stdout",
     "output_type": "stream",
     "text": [
      "Theoretical resolution = 5.12 Hz\n",
      "Rectangular resolution = 6.14 Hz\n",
      "Padded resolution = 2.0 Hz\n",
      "Sampling time = 0.2 sec\n"
     ]
    }
   ],
   "source": [
    "# needed libraries\n",
    "import numpy as np\n",
    "import matplotlib.pyplot as plt\n",
    "from scipy import fftpack, signal\n",
    "\n",
    "# TODO could make this a brute force least squared error problem (even using window functions)\n",
    "# controllable parameters\n",
    "Fs = 1024\n",
    "M = 200\n",
    "N = 512\n",
    "notes = [82.41, 110.00, 146.83, 196.00, 246.94, 329.63]\n",
    "#notes = [82, 110, 146, 196, 246, 330]\n",
    "\n",
    "\n",
    "# different frequency resolutions and total sampling time\n",
    "bestRes = Fs / M\n",
    "print('Theoretical resolution = {res} Hz'.format(res=round(bestRes, 2)))\n",
    "rectRes = 1.2*Fs/M\n",
    "halfRectRes = rectRes / 2\n",
    "print('Rectangular resolution = {res} Hz'.format(res=round(rectRes, 2)))\n",
    "freqs = np.fft.fftfreq(N, d=1 / Fs)\n",
    "print('Padded resolution = {res} Hz'.format(res=round(freqs[1], 2)))\n",
    "print('Sampling time = {res} sec'.format(res=round(1 / Fs * M, 2)))"
   ]
  },
  {
   "cell_type": "code",
   "execution_count": 324,
   "metadata": {},
   "outputs": [
    {
     "name": "stdout",
     "output_type": "stream",
     "text": [
      "Closest bin to 82.41 is 82.0\n",
      "Closest bin to 110.0 is 110.0\n",
      "Closest bin to 146.83 is 146.0\n",
      "Closest bin to 196.0 is 196.0\n",
      "Closest bin to 246.94 is 246.0\n",
      "Closest bin to 329.63 is 330.0\n"
     ]
    }
   ],
   "source": [
    "# determine which bin frequency is closest to given note\n",
    "def closestBin(note):\n",
    "    lowestDiff = 10e4\n",
    "    closestIndex = 0\n",
    "    for i in range(0, len(freqs[0:int(N/2)])):\n",
    "        if(abs(note - freqs[i]) < lowestDiff):\n",
    "            lowestDiff = abs(note - freqs[i])\n",
    "            closestIndex = i\n",
    "    return closestIndex\n",
    "\n",
    "# print bins that note frequencies should fall between\n",
    "criticalIndices = []\n",
    "for note in notes:\n",
    "    closestIndex = closestBin(note)\n",
    "    criticalIndices.append(closestIndex)\n",
    "    print('Closest bin to {} is {}'.format(note, freqs[closestIndex]))"
   ]
  },
  {
   "cell_type": "code",
   "execution_count": 325,
   "metadata": {},
   "outputs": [
    {
     "name": "stdout",
     "output_type": "stream",
     "text": [
      "[0.9000000000000057, 1.0, 1.0, 1.0, 0.9000000000000057, 1.0]\n",
      "5.800000000000011\n"
     ]
    }
   ],
   "source": [
    "# run through all valid frequencies and test algorithm\n",
    "largestErrors = [0, 0, 0, 0, 0, 0]\n",
    "testFreqs = np.arange(0, 513, 0.1)\n",
    "results = []\n",
    "for testFreq in testFreqs:\n",
    "    t = np.arange(0+0.3, M / Fs + 0.3, 1 / Fs)\n",
    "    tone = lambda t: np.cos(testFreq * 2 * np.pi * t)\n",
    "    y_freq = abs(scipy.fftpack.fft(tone(t), N)) \n",
    "    y_freq = y_freq[:round(N/2)] / N * 2 # normalize one sided fft amplitude\n",
    "    x_freq = scipy.fftpack.fftfreq(N, d=1/Fs)[:round(N/2)]\n",
    "    \n",
    "    # track the largest possible error tuning could cause\n",
    "    index = np.argmax(y_freq)\n",
    "    for i in range(0, len(criticalIndices)):\n",
    "        if index == criticalIndices[i]:\n",
    "            diff = abs(x_freq[index] - testFreq)\n",
    "            if(diff > largestErrors[i]):\n",
    "                largestErrors[i] = diff\n",
    "    result = x_freq[np.argmax(y_freq)]\n",
    "print(largestErrors)\n",
    "print(sum(largestErrors))"
   ]
  },
  {
   "cell_type": "code",
   "execution_count": null,
   "metadata": {},
   "outputs": [],
   "source": []
  }
 ],
 "metadata": {
  "kernelspec": {
   "display_name": "Python 3",
   "language": "python",
   "name": "python3"
  },
  "language_info": {
   "codemirror_mode": {
    "name": "ipython",
    "version": 3
   },
   "file_extension": ".py",
   "mimetype": "text/x-python",
   "name": "python",
   "nbconvert_exporter": "python",
   "pygments_lexer": "ipython3",
   "version": "3.8.1"
  }
 },
 "nbformat": 4,
 "nbformat_minor": 4
}
